{
 "cells": [
  {
   "cell_type": "code",
   "execution_count": 1,
   "id": "30ef9644",
   "metadata": {},
   "outputs": [],
   "source": [
    "import numpy as np\n",
    "import scipy.io"
   ]
  },
  {
   "cell_type": "code",
   "execution_count": 2,
   "id": "332430d5",
   "metadata": {},
   "outputs": [],
   "source": [
    "testdata = scipy.io.loadmat(r\"C:\\Users\\DELL\\Downloads\\test_data.mat\")\n",
    "traindata = scipy.io.loadmat(r\"C:\\Users\\DELL\\Downloads\\train_data.mat\")"
   ]
  },
  {
   "cell_type": "code",
   "execution_count": 3,
   "id": "bda52e46",
   "metadata": {},
   "outputs": [
    {
     "data": {
      "text/plain": [
       "array([[[0, 0, 0, ..., 0, 0, 0],\n",
       "        [0, 0, 0, ..., 0, 0, 0],\n",
       "        [0, 0, 0, ..., 0, 0, 0],\n",
       "        ...,\n",
       "        [0, 0, 0, ..., 0, 0, 0],\n",
       "        [0, 0, 0, ..., 0, 0, 0],\n",
       "        [0, 0, 0, ..., 0, 0, 0]],\n",
       "\n",
       "       [[0, 0, 0, ..., 0, 0, 0],\n",
       "        [0, 0, 0, ..., 0, 0, 0],\n",
       "        [0, 0, 0, ..., 0, 0, 0],\n",
       "        ...,\n",
       "        [0, 0, 0, ..., 0, 0, 0],\n",
       "        [0, 0, 0, ..., 0, 0, 0],\n",
       "        [0, 0, 0, ..., 0, 0, 0]],\n",
       "\n",
       "       [[0, 0, 0, ..., 0, 0, 0],\n",
       "        [0, 0, 0, ..., 0, 0, 0],\n",
       "        [0, 0, 0, ..., 0, 0, 0],\n",
       "        ...,\n",
       "        [0, 0, 0, ..., 0, 0, 0],\n",
       "        [0, 0, 0, ..., 0, 0, 0],\n",
       "        [0, 0, 0, ..., 0, 0, 0]],\n",
       "\n",
       "       ...,\n",
       "\n",
       "       [[0, 0, 0, ..., 0, 0, 0],\n",
       "        [0, 0, 0, ..., 0, 0, 0],\n",
       "        [0, 0, 0, ..., 0, 0, 0],\n",
       "        ...,\n",
       "        [0, 0, 0, ..., 0, 0, 0],\n",
       "        [0, 0, 0, ..., 0, 0, 0],\n",
       "        [0, 0, 0, ..., 0, 0, 0]],\n",
       "\n",
       "       [[0, 0, 0, ..., 0, 0, 0],\n",
       "        [0, 0, 0, ..., 0, 0, 0],\n",
       "        [0, 0, 0, ..., 0, 0, 0],\n",
       "        ...,\n",
       "        [0, 0, 0, ..., 0, 0, 0],\n",
       "        [0, 0, 0, ..., 0, 0, 0],\n",
       "        [0, 0, 0, ..., 0, 0, 0]],\n",
       "\n",
       "       [[0, 0, 0, ..., 0, 0, 0],\n",
       "        [0, 0, 0, ..., 0, 0, 0],\n",
       "        [0, 0, 0, ..., 0, 0, 0],\n",
       "        ...,\n",
       "        [0, 0, 0, ..., 0, 0, 0],\n",
       "        [0, 0, 0, ..., 0, 0, 0],\n",
       "        [0, 0, 0, ..., 0, 0, 0]]], dtype=uint8)"
      ]
     },
     "execution_count": 3,
     "metadata": {},
     "output_type": "execute_result"
    }
   ],
   "source": [
    "testdata['data']\n"
   ]
  },
  {
   "cell_type": "code",
   "execution_count": 4,
   "id": "b652feb3",
   "metadata": {},
   "outputs": [
    {
     "name": "stdout",
     "output_type": "stream",
     "text": [
      "11548 2886\n"
     ]
    }
   ],
   "source": [
    "l=[]\n",
    "for i in traindata['data']:\n",
    "    i=i.flatten()\n",
    "    l.append(i)\n",
    "\n",
    "traindata['data']=np.array(l)\n",
    "    \n",
    "l=[]\n",
    "for i in testdata['data']:\n",
    "    i=i.flatten()\n",
    "    l.append(i)\n",
    "testdata['data']=np.array(l)\n",
    "print(len(traindata['data']),len(testdata['data']))"
   ]
  },
  {
   "cell_type": "code",
   "execution_count": 5,
   "id": "3c3805b5",
   "metadata": {},
   "outputs": [],
   "source": [
    "def cal_skewvec(data):\n",
    "    skewvec= []\n",
    "    for i in data:\n",
    "        mean= np.mean(i)\n",
    "        std_dev= np.std(i)\n",
    "        cubestd= pow(std_dev,3)\n",
    "        n= len(i)\n",
    "        a=0\n",
    "        for j in i:\n",
    "            a+=pow(j-mean,3)\n",
    "        a/= n\n",
    "        a/= cubestd\n",
    "        skewvec.append(a)\n",
    "    return skewvec"
   ]
  },
  {
   "cell_type": "code",
   "execution_count": 6,
   "id": "f0d29626",
   "metadata": {},
   "outputs": [],
   "source": [
    "def BDratio(array,threshold):\n",
    "    BDratio=[]\n",
    "    for a in array:\n",
    "        n=len(a)\n",
    "        count=0\n",
    "        for i in a:\n",
    "            if(i>threshold):\n",
    "                 count+=1\n",
    "        BDratio.append(count/(n-count))\n",
    "        \n",
    "    return BDratio"
   ]
  },
  {
   "cell_type": "code",
   "execution_count": 7,
   "id": "1ee3c8c9",
   "metadata": {},
   "outputs": [
    {
     "name": "stdout",
     "output_type": "stream",
     "text": [
      "11548\n",
      "11548\n"
     ]
    }
   ],
   "source": [
    "skewvec_train= cal_skewvec(traindata['data'])\n",
    "BDratio_train= BDratio(traindata['data'],150)\n",
    "skewvec_test= cal_skewvec(testdata['data'])\n",
    "BDratio_test= BDratio(testdata['data'],150)\n",
    "print(len(skewvec_train))\n",
    "print(len(BDratio_train))"
   ]
  },
  {
   "cell_type": "code",
   "execution_count": 8,
   "id": "d73a2d2e",
   "metadata": {},
   "outputs": [],
   "source": [
    "mean_skewnormal= np.mean(skewvec_train)\n",
    "std_skewnormal= np.std(skewvec_train)\n",
    "mean_BDnormal= np.mean(BDratio_train)\n",
    "std_BDnormal= np.std(BDratio_train)"
   ]
  },
  {
   "cell_type": "code",
   "execution_count": 9,
   "id": "158780eb",
   "metadata": {},
   "outputs": [],
   "source": [
    "skewvec_train= (skewvec_train-mean_skewnormal)/std_skewnormal\n",
    "BDratio_train= (BDratio_train-mean_BDnormal)/std_BDnormal\n",
    "skewvec_test= (skewvec_test-mean_skewnormal)/std_skewnormal\n",
    "BDratio_test= (BDratio_test-mean_BDnormal)/std_BDnormal"
   ]
  },
  {
   "cell_type": "code",
   "execution_count": 10,
   "id": "ddff1184",
   "metadata": {},
   "outputs": [
    {
     "name": "stdout",
     "output_type": "stream",
     "text": [
      "11548 2886\n"
     ]
    }
   ],
   "source": [
    "traindata_new= np.stack([skewvec_train,BDratio_train],axis=1)\n",
    "testdata_new= np.stack([skewvec_test,BDratio_test],axis=1)\n",
    "print(len(traindata_new),len(testdata_new))"
   ]
  },
  {
   "cell_type": "code",
   "execution_count": 11,
   "id": "9210515a",
   "metadata": {},
   "outputs": [
    {
     "name": "stdout",
     "output_type": "stream",
     "text": [
      "meanof3 [-0.37951983  0.30674367]\n",
      "covarianceof3 [[ 0.8437565  -0.91624532]\n",
      " [-0.91624532  1.136679  ]]\n",
      "meanof7 [ 0.37158471 -0.30033017]\n",
      "covarianceof7 [[ 0.87417217 -0.72986478]\n",
      " [-0.72986478  0.68416819]]\n"
     ]
    }
   ],
   "source": [
    "classofImage_3=[]\n",
    "classofImage_7=[]\n",
    "for i in range(len(traindata['label'][0])):\n",
    "    if traindata['label'][0][i] == 3:\n",
    "        classofImage_3.append(traindata_new[i])\n",
    "    else :\n",
    "        classofImage_7.append(traindata_new[i])\n",
    "\n",
    "classofImage_3_Array = np.array(classofImage_3)\n",
    "classofImage_3_Mean = np.mean(classofImage_3_Array, axis=0)\n",
    "classofImage_3_Covariance = np.cov(classofImage_3_Array[:, 0], classofImage_3_Array[:, 1])\n",
    "\n",
    "classofImage_7_Array = np.array(classofImage_7)\n",
    "classofImage_7_Mean = np.mean(classofImage_7_Array, axis=0)\n",
    "classofImage_7_Covariance = np.cov(classofImage_7_Array[:, 0], classofImage_7_Array[:, 1])\n",
    "\n",
    "print(\"meanof3\",classofImage_3_Mean)\n",
    "print(\"covarianceof3\",classofImage_3_Covariance)\n",
    "print(\"meanof7\",classofImage_7_Mean)\n",
    "print(\"covarianceof7\",classofImage_7_Covariance)"
   ]
  },
  {
   "cell_type": "code",
   "execution_count": 12,
   "id": "0dec3daf",
   "metadata": {},
   "outputs": [],
   "source": [
    "def EvaluationofLikelihood(xvec, meanvec, covmat, dims):\n",
    "    a = 1 / (((2 * np.pi) ** (dims/2)) * (np.linalg.det(covmat)**(1/2)))\n",
    "    expon = -(1/2) * np.matmul(np.transpose(xvec-meanvec), np.matmul(np.linalg.inv(covmat), xvec-meanvec))\n",
    "    expon = np.exp(expon)\n",
    "    return a * expon"
   ]
  },
  {
   "cell_type": "code",
   "execution_count": 13,
   "id": "4be1aac1",
   "metadata": {},
   "outputs": [],
   "source": [
    "def PrintProbabilityofError(prior1,prior2, data):\n",
    "    BayesClassifError=[]\n",
    "    covar1 = classofImage_3_Covariance\n",
    "    covar2 = classofImage_7_Covariance\n",
    "\n",
    "    meanvec1 = classofImage_3_Mean\n",
    "    meanvec2 = classofImage_7_Mean\n",
    "    \n",
    "\n",
    "    for i in range(0,len(data)):\n",
    "        likelihood1 = EvaluationofLikelihood(data[i], meanvec1, covar1, len(data[i]))\n",
    "        likelihood2 = EvaluationofLikelihood(data[i], meanvec2, covar2, len(data[i]))\n",
    "        evidence = likelihood1 * prior1 + likelihood2* prior2\n",
    "        prob1 = likelihood1 * prior1 / evidence\n",
    "        prob2 = likelihood2 * prior2 / evidence\n",
    "\n",
    "        if(prob1<prob2):\n",
    "            BayesClassifError.append(prob1)\n",
    "        else:\n",
    "             BayesClassifError.append(prob2)\n",
    "    return BayesClassifError"
   ]
  },
  {
   "cell_type": "code",
   "execution_count": 14,
   "id": "973190f4",
   "metadata": {},
   "outputs": [
    {
     "data": {
      "text/plain": [
       "0.3056937008330423"
      ]
     },
     "execution_count": 14,
     "metadata": {},
     "output_type": "execute_result"
    }
   ],
   "source": [
    "k=PrintProbabilityofError(0.5,0.5,traindata_new)\n",
    "np.mean(k)"
   ]
  },
  {
   "cell_type": "code",
   "execution_count": 15,
   "id": "2c3c0291",
   "metadata": {},
   "outputs": [
    {
     "data": {
      "text/plain": [
       "0.30134632671075107"
      ]
     },
     "execution_count": 15,
     "metadata": {},
     "output_type": "execute_result"
    }
   ],
   "source": [
    "k=PrintProbabilityofError(0.5,0.5,testdata_new)\n",
    "np.mean(k)"
   ]
  },
  {
   "cell_type": "code",
   "execution_count": 16,
   "id": "d7b3cc84",
   "metadata": {},
   "outputs": [
    {
     "data": {
      "text/plain": [
       "0.25196358680103786"
      ]
     },
     "execution_count": 16,
     "metadata": {},
     "output_type": "execute_result"
    }
   ],
   "source": [
    "k=PrintProbabilityofError(0.3,0.7,traindata_new)\n",
    "np.mean(k)"
   ]
  },
  {
   "cell_type": "code",
   "execution_count": 17,
   "id": "d38ac559",
   "metadata": {},
   "outputs": [
    {
     "data": {
      "text/plain": [
       "0.2539460350502859"
      ]
     },
     "execution_count": 17,
     "metadata": {},
     "output_type": "execute_result"
    }
   ],
   "source": [
    "k=PrintProbabilityofError(0.3,0.7,testdata_new)\n",
    "np.mean(k)"
   ]
  },
  {
   "cell_type": "code",
   "execution_count": null,
   "id": "4e73634a",
   "metadata": {},
   "outputs": [],
   "source": []
  }
 ],
 "metadata": {
  "kernelspec": {
   "display_name": "Python 3 (ipykernel)",
   "language": "python",
   "name": "python3"
  },
  "language_info": {
   "codemirror_mode": {
    "name": "ipython",
    "version": 3
   },
   "file_extension": ".py",
   "mimetype": "text/x-python",
   "name": "python",
   "nbconvert_exporter": "python",
   "pygments_lexer": "ipython3",
   "version": "3.10.6"
  }
 },
 "nbformat": 4,
 "nbformat_minor": 5
}
